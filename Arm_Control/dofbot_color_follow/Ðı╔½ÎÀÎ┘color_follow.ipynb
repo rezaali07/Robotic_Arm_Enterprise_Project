{
 "cells": [
  {
   "cell_type": "markdown",
   "metadata": {},
   "source": [
    "# Color_tracking"
   ]
  },
  {
   "cell_type": "markdown",
   "metadata": {},
   "source": [
    "### Import head file"
   ]
  },
  {
   "cell_type": "code",
   "execution_count": 13,
   "metadata": {},
   "outputs": [
    {
     "ename": "ModuleNotFoundError",
     "evalue": "No module named 'smbus'",
     "output_type": "error",
     "traceback": [
      "\u001b[1;31m---------------------------------------------------------------------------\u001b[0m",
      "\u001b[1;31mModuleNotFoundError\u001b[0m                       Traceback (most recent call last)",
      "Cell \u001b[1;32mIn[13], line 7\u001b[0m\n\u001b[0;32m      5\u001b[0m \u001b[38;5;28;01mimport\u001b[39;00m \u001b[38;5;21;01mipywidgets\u001b[39;00m \u001b[38;5;28;01mas\u001b[39;00m \u001b[38;5;21;01mwidgets\u001b[39;00m\n\u001b[0;32m      6\u001b[0m \u001b[38;5;28;01mfrom\u001b[39;00m \u001b[38;5;21;01mIPython\u001b[39;00m\u001b[38;5;21;01m.\u001b[39;00m\u001b[38;5;21;01mdisplay\u001b[39;00m \u001b[38;5;28;01mimport\u001b[39;00m display\n\u001b[1;32m----> 7\u001b[0m \u001b[38;5;28;01mfrom\u001b[39;00m \u001b[38;5;21;01mcolor_follow\u001b[39;00m \u001b[38;5;28;01mimport\u001b[39;00m color_follow\n",
      "File \u001b[1;32m~\\Downloads\\Desktop\\Jetson-dofbot-Code\\dofbot_ws\\src\\dofbot_color_follow\\color_follow.py:5\u001b[0m\n\u001b[0;32m      3\u001b[0m \u001b[38;5;28;01mimport\u001b[39;00m \u001b[38;5;21;01mcv2\u001b[39;00m \u001b[38;5;28;01mas\u001b[39;00m \u001b[38;5;21;01mcv\u001b[39;00m\n\u001b[0;32m      4\u001b[0m \u001b[38;5;28;01mimport\u001b[39;00m \u001b[38;5;21;01mPID\u001b[39;00m\n\u001b[1;32m----> 5\u001b[0m \u001b[38;5;28;01mimport\u001b[39;00m \u001b[38;5;21;01mArm_Lib\u001b[39;00m\n\u001b[0;32m      8\u001b[0m \u001b[38;5;28;01mclass\u001b[39;00m \u001b[38;5;21;01mcolor_follow\u001b[39;00m:\n\u001b[0;32m      9\u001b[0m     \u001b[38;5;28;01mdef\u001b[39;00m \u001b[38;5;21m__init__\u001b[39m(\u001b[38;5;28mself\u001b[39m):\n",
      "File \u001b[1;32m~\\AppData\\Local\\Programs\\Python\\Python312\\Lib\\site-packages\\Arm_Lib\\__init__.py:1\u001b[0m\n\u001b[1;32m----> 1\u001b[0m \u001b[38;5;28;01mfrom\u001b[39;00m \u001b[38;5;21;01m.\u001b[39;00m\u001b[38;5;21;01mArm_Lib\u001b[39;00m \u001b[38;5;28;01mimport\u001b[39;00m Arm_Device\n",
      "File \u001b[1;32m~\\AppData\\Local\\Programs\\Python\\Python312\\Lib\\site-packages\\Arm_Lib\\Arm_Lib.py:3\u001b[0m\n\u001b[0;32m      1\u001b[0m \u001b[38;5;66;03m#!/usr/bin/env python3\u001b[39;00m\n\u001b[0;32m      2\u001b[0m \u001b[38;5;66;03m#coding: utf-8\u001b[39;00m\n\u001b[1;32m----> 3\u001b[0m \u001b[38;5;28;01mimport\u001b[39;00m \u001b[38;5;21;01msmbus\u001b[39;00m\n\u001b[0;32m      4\u001b[0m \u001b[38;5;28;01mimport\u001b[39;00m \u001b[38;5;21;01mtime\u001b[39;00m\n\u001b[0;32m      5\u001b[0m \u001b[38;5;66;03m# V0.0.5\u001b[39;00m\n",
      "\u001b[1;31mModuleNotFoundError\u001b[0m: No module named 'smbus'"
     ]
    }
   ],
   "source": [
    "import cv2 as cv\n",
    "import threading\n",
    "import random\n",
    "from time import sleep\n",
    "import ipywidgets as widgets\n",
    "from IPython.display import display\n",
    "from color_follow import color_follow"
   ]
  },
  {
   "cell_type": "markdown",
   "metadata": {},
   "source": [
    "###  Initialize DOFBOT position"
   ]
  },
  {
   "cell_type": "code",
   "execution_count": 12,
   "metadata": {},
   "outputs": [
    {
     "ename": "ModuleNotFoundError",
     "evalue": "No module named 'smbus'",
     "output_type": "error",
     "traceback": [
      "\u001b[1;31m---------------------------------------------------------------------------\u001b[0m",
      "\u001b[1;31mModuleNotFoundError\u001b[0m                       Traceback (most recent call last)",
      "Cell \u001b[1;32mIn[12], line 1\u001b[0m\n\u001b[1;32m----> 1\u001b[0m \u001b[38;5;28;01mimport\u001b[39;00m \u001b[38;5;21;01mArm_Lib\u001b[39;00m\n\u001b[0;32m      2\u001b[0m Arm \u001b[38;5;241m=\u001b[39m Arm_Lib\u001b[38;5;241m.\u001b[39mArm_Device()\n\u001b[0;32m      3\u001b[0m joints_0 \u001b[38;5;241m=\u001b[39m [\u001b[38;5;241m90\u001b[39m, \u001b[38;5;241m135\u001b[39m, \u001b[38;5;241m20\u001b[39m, \u001b[38;5;241m25\u001b[39m, \u001b[38;5;241m90\u001b[39m, \u001b[38;5;241m30\u001b[39m]\n",
      "File \u001b[1;32m~\\AppData\\Local\\Programs\\Python\\Python312\\Lib\\site-packages\\Arm_Lib\\__init__.py:1\u001b[0m\n\u001b[1;32m----> 1\u001b[0m \u001b[38;5;28;01mfrom\u001b[39;00m \u001b[38;5;21;01m.\u001b[39;00m\u001b[38;5;21;01mArm_Lib\u001b[39;00m \u001b[38;5;28;01mimport\u001b[39;00m Arm_Device\n",
      "File \u001b[1;32m~\\AppData\\Local\\Programs\\Python\\Python312\\Lib\\site-packages\\Arm_Lib\\Arm_Lib.py:3\u001b[0m\n\u001b[0;32m      1\u001b[0m \u001b[38;5;66;03m#!/usr/bin/env python3\u001b[39;00m\n\u001b[0;32m      2\u001b[0m \u001b[38;5;66;03m#coding: utf-8\u001b[39;00m\n\u001b[1;32m----> 3\u001b[0m \u001b[38;5;28;01mimport\u001b[39;00m \u001b[38;5;21;01msmbus\u001b[39;00m\n\u001b[0;32m      4\u001b[0m \u001b[38;5;28;01mimport\u001b[39;00m \u001b[38;5;21;01mtime\u001b[39;00m\n\u001b[0;32m      5\u001b[0m \u001b[38;5;66;03m# V0.0.5\u001b[39;00m\n",
      "\u001b[1;31mModuleNotFoundError\u001b[0m: No module named 'smbus'"
     ]
    }
   ],
   "source": [
    "import Arm_Lib\n",
    "Arm = Arm_Lib.Arm_Device()\n",
    "joints_0 = [90, 135, 20, 25, 90, 30]\n",
    "Arm.Arm_serial_servo_write6_array(joints_0, 1000)"
   ]
  },
  {
   "cell_type": "markdown",
   "metadata": {},
   "source": [
    "### Create the instance and initialize the parameters"
   ]
  },
  {
   "cell_type": "code",
   "execution_count": 6,
   "metadata": {},
   "outputs": [
    {
     "ename": "NameError",
     "evalue": "name 'color_follow' is not defined",
     "output_type": "error",
     "traceback": [
      "\u001b[1;31m---------------------------------------------------------------------------\u001b[0m",
      "\u001b[1;31mNameError\u001b[0m                                 Traceback (most recent call last)",
      "Cell \u001b[1;32mIn[6], line 1\u001b[0m\n\u001b[1;32m----> 1\u001b[0m follow \u001b[38;5;241m=\u001b[39m \u001b[43mcolor_follow\u001b[49m()\n\u001b[0;32m      2\u001b[0m model \u001b[38;5;241m=\u001b[39m \u001b[38;5;124m'\u001b[39m\u001b[38;5;124mGeneral\u001b[39m\u001b[38;5;124m'\u001b[39m\n\u001b[0;32m      3\u001b[0m HSV_learning \u001b[38;5;241m=\u001b[39m ()\n",
      "\u001b[1;31mNameError\u001b[0m: name 'color_follow' is not defined"
     ]
    }
   ],
   "source": [
    "follow = color_follow()\n",
    "model = 'General'\n",
    "HSV_learning = ()\n",
    "color_hsv = {\"red\": ((0, 25, 90), (10, 255, 255)),\n",
    "             \"green\": ((53, 36, 40), (80, 255, 255)),\n",
    "             \"blue\": ((110, 80, 90), (120, 255, 255)),\n",
    "             \"yellow\": ((25, 20, 55), (50, 255, 255))}\n",
    "color = [[random.randint(0, 255) for _ in range(3)] for _ in range(255)]\n",
    "HSV_path=\"/home/jetson/dofbot_ws/src/dofbot_color_follow/HSV_config.txt\"\n",
    "try: read_HSV(HSV_path,color_hsv)\n",
    "except Exception: print(\"Read HSV_config Error !!!\")"
   ]
  },
  {
   "cell_type": "markdown",
   "metadata": {},
   "source": [
    "### Creating widget"
   ]
  },
  {
   "cell_type": "code",
   "execution_count": 7,
   "metadata": {},
   "outputs": [],
   "source": [
    "button_layout = widgets.Layout(width='200px', height='100px', align_self='center')\n",
    "# Output widget\n",
    "output = widgets.Output()\n",
    "# Color tracking\n",
    "color_follow = widgets.Button(description='color_follow', button_style='success', layout=button_layout)\n",
    "# Select color\n",
    "choose_color = widgets.ToggleButtons(options=['red', 'green', 'blue', 'yellow'], button_style='success',\n",
    "             tooltips=['Description of slow', 'Description of regular', 'Description of fast'])\n",
    "#  Cancel tracking\n",
    "follow_cancel = widgets.Button(description='follow_cancel', button_style='danger', layout=button_layout)\n",
    "#  Learn color\n",
    "learning_color = widgets.Button(description='learning_color', button_style='primary', layout=button_layout)\n",
    "# Learn color tracking\n",
    "learning_follow = widgets.Button(description='learning_follow', button_style='success', layout=button_layout)\n",
    "# exit\n",
    "exit_button = widgets.Button(description='Exit', button_style='danger', layout=button_layout)\n",
    "# Image widget\n",
    "imgbox = widgets.Image(format='jpg', height=480, width=640, layout=widgets.Layout(align_self='auto'))\n",
    "# Vertical layout\n",
    "img_box = widgets.VBox([imgbox, choose_color], layout=widgets.Layout(align_self='auto'))\n",
    "# Vertical layout\n",
    "Slider_box = widgets.VBox([color_follow, learning_color, learning_follow,follow_cancel,exit_button],\n",
    "                          layout=widgets.Layout(align_self='auto'))\n",
    "# Horizontal layout\n",
    "controls_box = widgets.HBox([img_box, Slider_box], layout=widgets.Layout(align_self='auto'))\n",
    "# ['auto', 'flex-start', 'flex-end', 'center', 'baseline', 'stretch', 'inherit', 'initial', 'unset']"
   ]
  },
  {
   "cell_type": "markdown",
   "metadata": {},
   "source": [
    "### Switch mode"
   ]
  },
  {
   "cell_type": "code",
   "execution_count": 8,
   "metadata": {},
   "outputs": [],
   "source": [
    "def color_follow_Callback(value):\n",
    "    global model\n",
    "    model = 'color_follow'\n",
    "def learning_color_Callback(value):\n",
    "    global model\n",
    "    model = 'learning_color'\n",
    "def learning_follow_Callback(value):\n",
    "    global model\n",
    "    model = 'learning_follow'\n",
    "def follow_cancel_Callback(value):\n",
    "    global model\n",
    "    model = 'General'\n",
    "def exit_button_Callback(value):\n",
    "    global model\n",
    "    model = 'Exit'\n",
    "color_follow.on_click(color_follow_Callback)\n",
    "learning_color.on_click(learning_color_Callback)\n",
    "learning_follow.on_click(learning_follow_Callback)\n",
    "follow_cancel.on_click(follow_cancel_Callback)\n",
    "exit_button.on_click(exit_button_Callback)"
   ]
  },
  {
   "cell_type": "markdown",
   "metadata": {},
   "source": [
    "###  Main process"
   ]
  },
  {
   "cell_type": "code",
   "execution_count": 9,
   "metadata": {},
   "outputs": [],
   "source": [
    "def camera():\n",
    "    global HSV_learning,model\n",
    "    #  Open camera\n",
    "    capture = cv.VideoCapture(0)\n",
    "    capture.set(3, 640)\n",
    "    capture.set(4, 480)\n",
    "    capture.set(5, 30)  \n",
    "    # Be executed in loop when the camera is opened normally \n",
    "    while capture.isOpened():\n",
    "        try:\n",
    "            _, img = capture.read()\n",
    "            img = cv.resize(img, (640, 480))\n",
    "#             cv.line(img, (320, 0), (320, 480), color=(0, 255, 0), thickness=1)\n",
    "#             cv.line(img, (0, 240), (640, 240), color=(0, 255, 0), thickness=1)\n",
    "            if model == 'color_follow':\n",
    "                img = follow.follow_function(img, color_hsv[choose_color.value])\n",
    "                cv.putText(img, choose_color.value, (int(img.shape[0] / 2), 50), cv.FONT_HERSHEY_SIMPLEX, 2, color[random.randint(0, 254)], 2)\n",
    "            if model == 'learning_color':\n",
    "                img,HSV_learning = follow.get_hsv(img)\n",
    "            if model == 'learning_follow' :\n",
    "                if len(HSV_learning)!=0:\n",
    "                    print(HSV_learning)\n",
    "                    img = follow.learning_follow(img, HSV_learning)\n",
    "                    cv.putText(img,'LeColor', (240, 50), cv.FONT_HERSHEY_SIMPLEX, 1, color[random.randint(0, 254)], 1)\n",
    "            if model == 'Exit':\n",
    "                cv.destroyAllWindows()\n",
    "                capture.release()\n",
    "                break\n",
    "            imgbox.value = cv.imencode('.jpg', img)[1].tobytes()\n",
    "        except KeyboardInterrupt:capture.release()"
   ]
  },
  {
   "cell_type": "markdown",
   "metadata": {},
   "source": [
    "###   Start"
   ]
  },
  {
   "cell_type": "code",
   "execution_count": 10,
   "metadata": {},
   "outputs": [
    {
     "data": {
      "application/vnd.jupyter.widget-view+json": {
       "model_id": "8be6c15340d746d0b3f075e48ef04b70",
       "version_major": 2,
       "version_minor": 0
      },
      "text/plain": [
       "HBox(children=(VBox(children=(Image(value=b'', format='jpg', height='480', layout=\"Layout(align_self='auto')\",…"
      ]
     },
     "metadata": {},
     "output_type": "display_data"
    },
    {
     "data": {
      "application/vnd.jupyter.widget-view+json": {
       "model_id": "d362682f4f1e4167bbbf932000cee4bb",
       "version_major": 2,
       "version_minor": 0
      },
      "text/plain": [
       "Output()"
      ]
     },
     "metadata": {},
     "output_type": "display_data"
    },
    {
     "name": "stderr",
     "output_type": "stream",
     "text": [
      "Exception in thread Thread-5 (camera):\n",
      "Traceback (most recent call last):\n",
      "  File \"C:\\Users\\kbima\\AppData\\Local\\Programs\\Python\\Python312\\Lib\\threading.py\", line 1073, in _bootstrap_inner\n",
      "    self.run()\n",
      "  File \"C:\\Users\\kbima\\AppData\\Local\\Programs\\Python\\Python312\\Lib\\site-packages\\ipykernel\\ipkernel.py\", line 766, in run_closure\n",
      "    _threading_Thread_run(self)\n",
      "  File \"C:\\Users\\kbima\\AppData\\Local\\Programs\\Python\\Python312\\Lib\\threading.py\", line 1010, in run\n",
      "    self._target(*self._args, **self._kwargs)\n",
      "  File \"C:\\Users\\kbima\\AppData\\Local\\Temp\\ipykernel_20596\\3190582193.py\", line 16, in camera\n",
      "NameError: name 'model' is not defined\n"
     ]
    }
   ],
   "source": [
    "display(controls_box,output)\n",
    "threading.Thread(target=camera, ).start()"
   ]
  },
  {
   "cell_type": "markdown",
   "metadata": {},
   "source": [
    "##### "
   ]
  },
  {
   "cell_type": "code",
   "execution_count": null,
   "metadata": {},
   "outputs": [],
   "source": []
  },
  {
   "cell_type": "code",
   "execution_count": null,
   "metadata": {},
   "outputs": [],
   "source": []
  },
  {
   "cell_type": "code",
   "execution_count": null,
   "metadata": {},
   "outputs": [],
   "source": []
  }
 ],
 "metadata": {
  "kernelspec": {
   "display_name": "Python 3 (ipykernel)",
   "language": "python",
   "name": "python3"
  },
  "language_info": {
   "codemirror_mode": {
    "name": "ipython",
    "version": 3
   },
   "file_extension": ".py",
   "mimetype": "text/x-python",
   "name": "python",
   "nbconvert_exporter": "python",
   "pygments_lexer": "ipython3",
   "version": "3.12.3"
  }
 },
 "nbformat": 4,
 "nbformat_minor": 4
}
