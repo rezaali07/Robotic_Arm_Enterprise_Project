{
 "cells": [
  {
   "cell_type": "code",
   "execution_count": null,
   "metadata": {},
   "outputs": [],
   "source": [
    "#!/usr/bin/env python3\n",
    "#coding=utf-8\n",
    "import time\n",
    "from Arm_Lib import Arm_Device\n",
    "\n",
    "Arm = Arm_Device()\n",
    "time.sleep(.1)\n"
   ]
  },
  {
   "cell_type": "code",
   "execution_count": null,
   "metadata": {},
   "outputs": [],
   "source": [
    "# Cycle control the mechanical arm to swing up, down, left and right\n",
    "def main():\n",
    "    # Reset and center the steering gear\n",
    "    Arm.Arm_serial_servo_write6(90, 90, 90, 90, 90, 90, 500)\n",
    "    time.sleep(1)\n",
    "\n",
    "\n",
    "    while True:\n",
    "        # Control the up and down operation of No. 3 and No. 4 steering gear\n",
    "        Arm.Arm_serial_servo_write(3, 0, 1000)\n",
    "        time.sleep(.001)\n",
    "        Arm.Arm_serial_servo_write(4, 180, 1000)\n",
    "        time.sleep(1)\n",
    "        \n",
    "        # Control the left and right movement of No. 1 steering gear\n",
    "        Arm.Arm_serial_servo_write(1, 180, 500)\n",
    "        time.sleep(.5)\n",
    "        Arm.Arm_serial_servo_write(1, 0, 1000)\n",
    "        time.sleep(1)\n",
    "        \n",
    "        # Control the steering gear to return to the initial position\n",
    "        Arm.Arm_serial_servo_write6(90, 90, 90, 90, 90, 90, 1000)\n",
    "        time.sleep(1.5)\n",
    "\n",
    "\n",
    "try :\n",
    "    main()\n",
    "except KeyboardInterrupt:\n",
    "    print(\" Program closed! \")\n",
    "    pass\n"
   ]
  },
  {
   "cell_type": "code",
   "execution_count": null,
   "metadata": {},
   "outputs": [],
   "source": [
    "del Arm  "
   ]
  },
  {
   "cell_type": "code",
   "execution_count": null,
   "metadata": {},
   "outputs": [],
   "source": []
  }
 ],
 "metadata": {
  "kernelspec": {
   "display_name": "Python 3 (ipykernel)",
   "language": "python",
   "name": "python3"
  },
  "language_info": {
   "codemirror_mode": {
    "name": "ipython",
    "version": 3
   },
   "file_extension": ".py",
   "mimetype": "text/x-python",
   "name": "python",
   "nbconvert_exporter": "python",
   "pygments_lexer": "ipython3",
   "version": "3.12.3"
  }
 },
 "nbformat": 4,
 "nbformat_minor": 4
}
