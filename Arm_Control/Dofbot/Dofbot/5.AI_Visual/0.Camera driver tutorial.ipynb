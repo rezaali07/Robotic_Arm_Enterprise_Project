{
 "cells": [
  {
   "cell_type": "code",
   "execution_count": null,
   "metadata": {},
   "outputs": [],
   "source": [
    "import cv2\n",
    "import ipywidgets.widgets as widgets\n",
    "import threading\n",
    "import time\n",
    "\n",
    "image_widget = widgets.Image(format='jpeg', width=600, height=500)  \n",
    "display(image_widget)                                              "
   ]
  },
  {
   "cell_type": "code",
   "execution_count": null,
   "metadata": {},
   "outputs": [],
   "source": [
    "#bgr8 jpeg #bgr8 to jpeg format\n",
    "import enum\n",
    "import cv2\n",
    "\n",
    "def bgr8_to_jpeg(value, quality=75):\n",
    "    return bytes(cv2.imencode('.jpg', value)[1])"
   ]
  },
  {
   "cell_type": "code",
   "execution_count": null,
   "metadata": {},
   "outputs": [],
   "source": [
    "image = cv2.VideoCapture(0)                           \n",
    "\n",
    "width=600\n",
    "height=500\n",
    "# cap.set(cv2.CAP_PROP_FRAME_WIDTH,width)\n",
    "# cap.set(cv2.CAP_PROP_FRAME_HEIGHT,height)\n",
    "\n",
    "# image.set(3,600)       \n",
    "# image.set(4,500)\n",
    "# image.set(5, 30)  \n",
    "# image.set(cv2.CAP_PROP_FOURCC, cv2.VideoWriter.fourcc('M', 'J', 'P', 'G'))\n",
    "# image.set(cv2.CAP_PROP_BRIGHTNESS, 40) \n",
    "# image.set(cv2.CAP_PROP_CONTRAST, 50)   \n",
    "# image.set(cv2.CAP_PROP_EXPOSURE, 156)  \n",
    "\n",
    "ret, frame = image.read()    \n",
    "image_widget.value = bgr8_to_jpeg(frame)"
   ]
  },
  {
   "cell_type": "code",
   "execution_count": null,
   "metadata": {},
   "outputs": [],
   "source": [
    "try:\n",
    "    while 1:\n",
    "        ret, frame = image.read()\n",
    "        image_widget.value = bgr8_to_jpeg(frame)\n",
    "        time.sleep(0.010)\n",
    "except KeyboardInterrupt:\n",
    "    print(\" Program closed! \")\n",
    "    pass"
   ]
  },
  {
   "cell_type": "code",
   "execution_count": null,
   "metadata": {},
   "outputs": [],
   "source": [
    "#release\n",
    "image.release()              "
   ]
  },
  {
   "cell_type": "code",
   "execution_count": null,
   "metadata": {},
   "outputs": [],
   "source": []
  }
 ],
 "metadata": {
  "kernelspec": {
   "display_name": "Python 3 (ipykernel)",
   "language": "python",
   "name": "python3"
  },
  "language_info": {
   "codemirror_mode": {
    "name": "ipython",
    "version": 3
   },
   "file_extension": ".py",
   "mimetype": "text/x-python",
   "name": "python",
   "nbconvert_exporter": "python",
   "pygments_lexer": "ipython3",
   "version": "3.12.3"
  }
 },
 "nbformat": 4,
 "nbformat_minor": 4
}
